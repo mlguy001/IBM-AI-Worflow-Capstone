{
 "cells": [
  {
   "cell_type": "markdown",
   "metadata": {},
   "source": [
    "# CASE STUDY - performance monitoring\n",
    "\n",
    "You will be building your own workflow template in this tutorial.  You already have a Dockerfile and a basic Flask application to build an API.  Lets combine what you have learned about logging to build a ``workflow-template`` that can be used to deploy models in a way that facilitates performance monitoring.\n",
    "\n",
    "There are three main parts to this case study.\n",
    "\n",
    "1. Write unit tests for a logger and a logging API endpoint\n",
    "2. Add logging to your Docker container\n",
    "3. Add an API endpoint for logging\n",
    "4. Make sure all tests pass\n",
    "5. Create model performance investigative tooling\n",
    "6. Swap out the iris data for the AAVAIL churn data\n",
    "\n",
    "You may want to eventually rename the directory because in this case-study you will swap out the iris data for `aavail-target.csv`.  It reality you will eventually want a library of workflow templates to work from and the naming convention you decide on can help with organization.  This notebook should reside in that source directory regardless of the name.  We suggest that you go through all of the tasks **first** using the iris data **then** copy the template to a new folder and make it work for the AAVAIL churn data.  Eventually you will want a suite of workflow templates that you will be able to select from."
   ]
  },
  {
   "cell_type": "code",
   "execution_count": 21,
   "metadata": {},
   "outputs": [],
   "source": [
    "import os\n",
    "import sys\n",
    "import numpy as np\n",
    "import pandas as pd\n",
    "import matplotlib.pyplot as plt\n",
    "import requests\n",
    "\n",
    "%matplotlib inline"
   ]
  },
  {
   "cell_type": "markdown",
   "metadata": {},
   "source": [
    "## Getting started\n",
    "\n",
    "The ``workflow-template.zip`` is a workflow template.  Unpack the directory in a location where you would like the source code to exist.  Leaving out the ``static`` directory that contains css and JavaScript to render a landing page, the important pieces are shown in the following tree.\n",
    "\n",
    "```\n",
    "├── app.py\n",
    "├── Dockerfile\n",
    "├── model.py\n",
    "├── README.rst\n",
    "├── requirements.txt\n",
    "├── run-tests.py\n",
    "├── templates\n",
    "│   ├── base.html\n",
    "│   ├── dashboard.html\n",
    "│   ├── index.html\n",
    "│   └── running.html\n",
    "└── unittests\n",
    "    ├── ApiTests.py\n",
    "    ├── __init__.py\n",
    "    ├── ModelTests.py\n",
    "```\n",
    "\n",
    "If you plan on modifying the HTML website you will need to modify the files in ``templates``.  The rest of the files you should be familiar with at this point.\n",
    "\n",
    "\n",
    "We will be working with an Flask API to interact with our model. In order to access the different endpoints of this API make sure the app is running. Open a new command prompt and run the app with the command :\n",
    "\n",
    "```\n",
    "python path/to/working/directory/app.py -d\n",
    "```"
   ]
  },
  {
   "cell_type": "markdown",
   "metadata": {},
   "source": [
    "## TASK 1: Write units test for a logger\n",
    "\n",
    "1. Using `model.py` and `./unittests/ModelTests.py` as an example complete `logger.py` and \n",
    "`./unittests/LoggerTests.py`.\n",
    "2. Modify the files so that there are at a minimum the following tests:\n",
    "\n",
    "    * ensure predict log is automatically created\n",
    "    * ensure train log is automatically created\n",
    "    * ensure that content can be retrieved from predict log file\n",
    "    * ensure that content can be retrieved from train log file\n",
    "    \n",
    "> IMPORTANT: when writing to a log file from a unit test you will want to ensure that you do not modify or delete existing 'production' logs.  You can test your function with the following code (although it is likely easier to work directly in a terminal)."
   ]
  },
  {
   "cell_type": "code",
   "execution_count": 9,
   "metadata": {},
   "outputs": [
    {
     "name": "stderr",
     "output_type": "stream",
     "text": [
      "....\n",
      "----------------------------------------------------------------------\n",
      "Ran 4 tests in 0.030s\n",
      "\n",
      "OK\n"
     ]
    }
   ],
   "source": [
    "!python ./unittests/LoggerTests.py"
   ]
  },
  {
   "cell_type": "markdown",
   "metadata": {},
   "source": [
    "The tests seem to be  working"
   ]
  },
  {
   "cell_type": "markdown",
   "metadata": {},
   "source": [
    "## TASK 2: Add an API endpoint for logging\n",
    "\n",
    "In addition to the `predict` and `train` endpoints, create a third endpoint that returns \n",
    "logs.  Remember that there are `train` and `predict` log files and that they are set up \n",
    "to create new files each month.  You will need to ensure that your endpoint can accommodate this and the best way to ensure this is to **first write the unit tests** then write the code.\n",
    "\n",
    "Flask has several functions to help with the sending of files. One example is [send_from_directory](https://flask.palletsprojects.com/en/1.1.x/api/#flask.send_from_directory)."
   ]
  },
  {
   "cell_type": "code",
   "execution_count": 10,
   "metadata": {},
   "outputs": [
    {
     "name": "stderr",
     "output_type": "stream",
     "text": [
      "ssss\n",
      "----------------------------------------------------------------------\n",
      "Ran 4 tests in 0.000s\n",
      "\n",
      "OK (skipped=4)\n"
     ]
    }
   ],
   "source": [
    "# The API is ready we can test it. We invite you to take a close look into the ApiTests.py script.\n",
    "!python ./unittests/ApiTests.py"
   ]
  },
  {
   "cell_type": "markdown",
   "metadata": {},
   "source": [
    "## TASK 3: Make sure all tests pass\n",
    "\n",
    "You have been working on specific suites of unit tests.  It is a best practice to double-check that all tests pass after making major changes like the ones you have just completed.\n",
    "\n",
    "> make sure you modify the `./unittests/__init__.py` so that the LoggerTest suite is also included when running all tests."
   ]
  },
  {
   "cell_type": "code",
   "execution_count": 11,
   "metadata": {},
   "outputs": [
    {
     "name": "stdout",
     "output_type": "stream",
     "text": [
      "... saving model: models\\model-0_1.joblib\n"
     ]
    },
    {
     "name": "stderr",
     "output_type": "stream",
     "text": [
      "ssss...\n",
      "----------------------------------------------------------------------\n",
      "Ran 7 tests in 0.120s\n",
      "\n",
      "OK (skipped=4)\n"
     ]
    }
   ],
   "source": [
    "!python run-tests.py"
   ]
  },
  {
   "cell_type": "markdown",
   "metadata": {},
   "source": [
    "## TASK 4: Create model performance investigative tooling\n",
    "\n",
    "There are a lot of convenience functions you could create here.  Create them directly in this notebook or create them as scripts that you may call from this notebook.  \n",
    "\n",
    "First write a script that accomplishes the following:\n",
    "\n",
    "* train one model, then select another type of machine learning model and train again,  ensuring that each has separate version numbers.\n",
    "* simulate a couple of hundred predictions for each model.\n",
    "\n",
    "At minimum create a tablular summary and/or a simple plot that accomplishes the following:\n",
    "\n",
    "1. Compare model performance for the two models\n",
    "2. Determine if there was any drift from the first model to the second using a novelty detection algorithm."
   ]
  },
  {
   "cell_type": "markdown",
   "metadata": {},
   "source": [
    "***Hint :*** The API has been built such that only dictionaries can be sent as query for the model. After training the model with the following command line :\n",
    "```\n",
    "python run-model-train.py\n",
    "```\n",
    "you will need to transtype your data into dictionaries in order to be able to call the predict endpoint of the API :\n",
    "```\n",
    "X_query_pd = pd.DataFrame([[5.1, 3.2], [10, 2.3]])\n",
    "request_json = {'query':X_query_pd.to_dict(), 'type':'dict'}\n",
    "port = 8080\n",
    "r = requests.post('http://127.0.0.1:{}/predict'.format(port), json=request_json)\n",
    "print(r.text)\n",
    "```\n",
    "You can of course tweak the API (directly in app.py) to accept more data types."
   ]
  },
  {
   "cell_type": "code",
   "execution_count": 4,
   "metadata": {},
   "outputs": [],
   "source": [
    "import data_ingestion as di"
   ]
  },
  {
   "cell_type": "code",
   "execution_count": 5,
   "metadata": {},
   "outputs": [
    {
     "data": {
      "text/html": [
       "<div>\n",
       "<style scoped>\n",
       "    .dataframe tbody tr th:only-of-type {\n",
       "        vertical-align: middle;\n",
       "    }\n",
       "\n",
       "    .dataframe tbody tr th {\n",
       "        vertical-align: top;\n",
       "    }\n",
       "\n",
       "    .dataframe thead th {\n",
       "        text-align: right;\n",
       "    }\n",
       "</style>\n",
       "<table border=\"1\" class=\"dataframe\">\n",
       "  <thead>\n",
       "    <tr style=\"text-align: right;\">\n",
       "      <th></th>\n",
       "      <th>customer_id</th>\n",
       "      <th>is_subscriber</th>\n",
       "      <th>country</th>\n",
       "      <th>age</th>\n",
       "      <th>customer_name</th>\n",
       "      <th>subscriber_type</th>\n",
       "      <th>num_streams</th>\n",
       "    </tr>\n",
       "  </thead>\n",
       "  <tbody>\n",
       "    <tr>\n",
       "      <th>0</th>\n",
       "      <td>1</td>\n",
       "      <td>1</td>\n",
       "      <td>united_states</td>\n",
       "      <td>21</td>\n",
       "      <td>Kasen Todd</td>\n",
       "      <td>aavail_premium</td>\n",
       "      <td>23</td>\n",
       "    </tr>\n",
       "    <tr>\n",
       "      <th>1</th>\n",
       "      <td>2</td>\n",
       "      <td>0</td>\n",
       "      <td>singapore</td>\n",
       "      <td>30</td>\n",
       "      <td>Ensley Garza</td>\n",
       "      <td>aavail_unlimited</td>\n",
       "      <td>12</td>\n",
       "    </tr>\n",
       "    <tr>\n",
       "      <th>2</th>\n",
       "      <td>3</td>\n",
       "      <td>0</td>\n",
       "      <td>united_states</td>\n",
       "      <td>21</td>\n",
       "      <td>Lillian Carey</td>\n",
       "      <td>aavail_premium</td>\n",
       "      <td>22</td>\n",
       "    </tr>\n",
       "    <tr>\n",
       "      <th>3</th>\n",
       "      <td>4</td>\n",
       "      <td>1</td>\n",
       "      <td>united_states</td>\n",
       "      <td>20</td>\n",
       "      <td>Beau Christensen</td>\n",
       "      <td>aavail_basic</td>\n",
       "      <td>19</td>\n",
       "    </tr>\n",
       "    <tr>\n",
       "      <th>4</th>\n",
       "      <td>5</td>\n",
       "      <td>1</td>\n",
       "      <td>singapore</td>\n",
       "      <td>21</td>\n",
       "      <td>Ernesto Gibson</td>\n",
       "      <td>aavail_premium</td>\n",
       "      <td>23</td>\n",
       "    </tr>\n",
       "    <tr>\n",
       "      <th>...</th>\n",
       "      <td>...</td>\n",
       "      <td>...</td>\n",
       "      <td>...</td>\n",
       "      <td>...</td>\n",
       "      <td>...</td>\n",
       "      <td>...</td>\n",
       "      <td>...</td>\n",
       "    </tr>\n",
       "    <tr>\n",
       "      <th>995</th>\n",
       "      <td>996</td>\n",
       "      <td>0</td>\n",
       "      <td>singapore</td>\n",
       "      <td>-46</td>\n",
       "      <td>Peyton Enriquez</td>\n",
       "      <td>aavail_unlimited</td>\n",
       "      <td>14</td>\n",
       "    </tr>\n",
       "    <tr>\n",
       "      <th>996</th>\n",
       "      <td>997</td>\n",
       "      <td>1</td>\n",
       "      <td>united_states</td>\n",
       "      <td>23</td>\n",
       "      <td>Amina Manning</td>\n",
       "      <td>aavail_basic</td>\n",
       "      <td>24</td>\n",
       "    </tr>\n",
       "    <tr>\n",
       "      <th>997</th>\n",
       "      <td>998</td>\n",
       "      <td>1</td>\n",
       "      <td>united_states</td>\n",
       "      <td>24</td>\n",
       "      <td>Brooks Ventura</td>\n",
       "      <td>aavail_unlimited</td>\n",
       "      <td>17</td>\n",
       "    </tr>\n",
       "    <tr>\n",
       "      <th>998</th>\n",
       "      <td>999</td>\n",
       "      <td>1</td>\n",
       "      <td>united_states</td>\n",
       "      <td>39</td>\n",
       "      <td>Nayeli Mathis</td>\n",
       "      <td>aavail_unlimited</td>\n",
       "      <td>16</td>\n",
       "    </tr>\n",
       "    <tr>\n",
       "      <th>999</th>\n",
       "      <td>1000</td>\n",
       "      <td>1</td>\n",
       "      <td>united_states</td>\n",
       "      <td>20</td>\n",
       "      <td>Cole Solis</td>\n",
       "      <td>aavail_unlimited</td>\n",
       "      <td>18</td>\n",
       "    </tr>\n",
       "  </tbody>\n",
       "</table>\n",
       "<p>1000 rows × 7 columns</p>\n",
       "</div>"
      ],
      "text/plain": [
       "     customer_id  is_subscriber        country  age     customer_name  \\\n",
       "0              1              1  united_states   21        Kasen Todd   \n",
       "1              2              0      singapore   30      Ensley Garza   \n",
       "2              3              0  united_states   21     Lillian Carey   \n",
       "3              4              1  united_states   20  Beau Christensen   \n",
       "4              5              1      singapore   21    Ernesto Gibson   \n",
       "..           ...            ...            ...  ...               ...   \n",
       "995          996              0      singapore  -46   Peyton Enriquez   \n",
       "996          997              1  united_states   23     Amina Manning   \n",
       "997          998              1  united_states   24    Brooks Ventura   \n",
       "998          999              1  united_states   39     Nayeli Mathis   \n",
       "999         1000              1  united_states   20        Cole Solis   \n",
       "\n",
       "      subscriber_type  num_streams  \n",
       "0      aavail_premium           23  \n",
       "1    aavail_unlimited           12  \n",
       "2      aavail_premium           22  \n",
       "3        aavail_basic           19  \n",
       "4      aavail_premium           23  \n",
       "..                ...          ...  \n",
       "995  aavail_unlimited           14  \n",
       "996      aavail_basic           24  \n",
       "997  aavail_unlimited           17  \n",
       "998  aavail_unlimited           16  \n",
       "999  aavail_unlimited           18  \n",
       "\n",
       "[1000 rows x 7 columns]"
      ]
     },
     "execution_count": 5,
     "metadata": {},
     "output_type": "execute_result"
    }
   ],
   "source": [
    "data = di.train_data()\n",
    "data"
   ]
  },
  {
   "cell_type": "markdown",
   "metadata": {},
   "source": [
    "The data ingestion module retrieves the data"
   ]
  },
  {
   "cell_type": "code",
   "execution_count": 7,
   "metadata": {},
   "outputs": [
    {
     "name": "stderr",
     "output_type": "stream",
     "text": [
      "C:\\Users\\Nidhal\\Anaconda3\\lib\\site-packages\\statsmodels\\tools\\_testing.py:19: FutureWarning: pandas.util.testing is deprecated. Use the functions in the public API at pandas.testing instead.\n",
      "  import pandas.util.testing as tm\n"
     ]
    }
   ],
   "source": [
    "import eda"
   ]
  },
  {
   "cell_type": "markdown",
   "metadata": {},
   "source": [
    "Here we can compare the ditributions of the users' ages and nb of streams"
   ]
  },
  {
   "cell_type": "code",
   "execution_count": 8,
   "metadata": {},
   "outputs": [
    {
     "data": {
      "image/png": "[encoded data removed]",
      "text/plain": [
       "<Figure size 720x720 with 2 Axes>"
      ]
     },
     "metadata": {
      "needs_background": "light"
     },
     "output_type": "display_data"
    }
   ],
   "source": [
    "eda.plotCompareDistrubutions(data=data, over=\"country\", to_compare=[\"united_states\", \"singapore\"], dist_of=[\"age\", \"num_streams\"])"
   ]
  },
  {
   "cell_type": "markdown",
   "metadata": {},
   "source": [
    "The users seem to be all aroud 20 years old, regardless of their locations, however, the American users tend to have significantly more streams than all other users"
   ]
  },
  {
   "cell_type": "code",
   "execution_count": 9,
   "metadata": {},
   "outputs": [
    {
     "data": {
      "image/png": "[encoded data removed]",
      "text/plain": [
       "<Figure size 720x720 with 2 Axes>"
      ]
     },
     "metadata": {
      "needs_background": "light"
     },
     "output_type": "display_data"
    }
   ],
   "source": [
    "eda.plotCompareDistrubutions(data=data, over=\"subscriber_type\", to_compare=[\"aavail_premium\", \"aavail_unlimited\"], dist_of=[\"age\", \"num_streams\"])"
   ]
  },
  {
   "cell_type": "markdown",
   "metadata": {},
   "source": [
    "The premium users tend to be a few years older than the unlimited subscribers"
   ]
  },
  {
   "cell_type": "code",
   "execution_count": 22,
   "metadata": {},
   "outputs": [],
   "source": [
    "import model as m"
   ]
  },
  {
   "cell_type": "markdown",
   "metadata": {},
   "source": [
    "here we can compare a few algorithms"
   ]
  },
  {
   "cell_type": "code",
   "execution_count": 2,
   "metadata": {},
   "outputs": [
    {
     "name": "stdout",
     "output_type": "stream",
     "text": [
      "Support Vector Machine will be used per default\n",
      "... saving model: models\\model-0_1.joblib\n",
      "                  0.0        1.0  accuracy   macro avg  weighted avg\n",
      "precision    0.807407   0.683333  0.784848    0.745370      0.772441\n",
      "recall       0.919831   0.440860  0.784848    0.680346      0.784848\n",
      "f1-score     0.859961   0.535948  0.784848    0.697954      0.768648\n",
      "support    237.000000  93.000000  0.784848  330.000000    330.000000\n"
     ]
    }
   ],
   "source": [
    "m.model_train()"
   ]
  },
  {
   "cell_type": "code",
   "execution_count": 9,
   "metadata": {},
   "outputs": [],
   "source": [
    "from sklearn.tree import DecisionTreeClassifier\n",
    "from sklearn.ensemble import RandomForestClassifier, GradientBoostingClassifier, AdaBoostClassifier"
   ]
  },
  {
   "cell_type": "code",
   "execution_count": 4,
   "metadata": {},
   "outputs": [
    {
     "name": "stdout",
     "output_type": "stream",
     "text": [
      "... saving model: models\\model-0_1.joblib\n",
      "                  0.0        1.0  accuracy   macro avg  weighted avg\n",
      "precision    0.764940   0.430380  0.684848    0.597660      0.670655\n",
      "recall       0.810127   0.365591  0.684848    0.587859      0.684848\n",
      "f1-score     0.786885   0.395349  0.684848    0.591117      0.676543\n",
      "support    237.000000  93.000000  0.684848  330.000000    330.000000\n"
     ]
    }
   ],
   "source": [
    "clf = DecisionTreeClassifier()\n",
    "m.model_train(clf)"
   ]
  },
  {
   "cell_type": "code",
   "execution_count": 5,
   "metadata": {},
   "outputs": [
    {
     "name": "stdout",
     "output_type": "stream",
     "text": [
      "... saving model: models\\model-0_1.joblib\n",
      "                  0.0        1.0  accuracy   macro avg  weighted avg\n",
      "precision    0.780392   0.493333  0.715152    0.636863      0.699494\n",
      "recall       0.839662   0.397849  0.715152    0.618756      0.715152\n",
      "f1-score     0.808943   0.440476  0.715152    0.624710      0.705102\n",
      "support    237.000000  93.000000  0.715152  330.000000    330.000000\n"
     ]
    },
    {
     "name": "stderr",
     "output_type": "stream",
     "text": [
      "C:\\Users\\Nidhal\\Anaconda3\\lib\\site-packages\\sklearn\\ensemble\\forest.py:245: FutureWarning: The default value of n_estimators will change from 10 in version 0.20 to 100 in 0.22.\n",
      "  \"10 in version 0.20 to 100 in 0.22.\", FutureWarning)\n"
     ]
    }
   ],
   "source": [
    "clf = RandomForestClassifier()\n",
    "m.model_train(clf)"
   ]
  },
  {
   "cell_type": "code",
   "execution_count": 6,
   "metadata": {},
   "outputs": [
    {
     "name": "stdout",
     "output_type": "stream",
     "text": [
      "... saving model: models\\model-0_1.joblib\n",
      "                  0.0        1.0  accuracy   macro avg  weighted avg\n",
      "precision    0.810078   0.611111  0.766667    0.710594      0.754005\n",
      "recall       0.881857   0.473118  0.766667    0.677487      0.766667\n",
      "f1-score     0.844444   0.533333  0.766667    0.688889      0.756768\n",
      "support    237.000000  93.000000  0.766667  330.000000    330.000000\n"
     ]
    }
   ],
   "source": [
    "clf = GradientBoostingClassifier()\n",
    "m.model_train(clf)"
   ]
  },
  {
   "cell_type": "code",
   "execution_count": 7,
   "metadata": {},
   "outputs": [
    {
     "name": "stdout",
     "output_type": "stream",
     "text": [
      "... saving model: models\\model-0_1.joblib\n",
      "                  0.0        1.0  accuracy   macro avg  weighted avg\n",
      "precision    0.825397   0.628205  0.778788    0.726801      0.769825\n",
      "recall       0.877637   0.526882  0.778788    0.702259      0.778788\n",
      "f1-score     0.850716   0.573099  0.778788    0.711908      0.772478\n",
      "support    237.000000  93.000000  0.778788  330.000000    330.000000\n"
     ]
    }
   ],
   "source": [
    "clf = AdaBoostClassifier()\n",
    "m.model_train(clf)"
   ]
  },
  {
   "cell_type": "code",
   "execution_count": 80,
   "metadata": {},
   "outputs": [],
   "source": [
    "X,y = m.fetch_data()"
   ]
  },
  {
   "cell_type": "code",
   "execution_count": 106,
   "metadata": {},
   "outputs": [],
   "source": [
    "N = 20\n",
    "indices = np.random.randint(low = 0, high = X.shape[0], size = N)\n",
    "\n",
    "Xs = X.iloc[indices]\n",
    "ys = y[indices]"
   ]
  },
  {
   "cell_type": "code",
   "execution_count": 109,
   "metadata": {},
   "outputs": [
    {
     "data": {
      "text/html": [
       "<div>\n",
       "<style scoped>\n",
       "    .dataframe tbody tr th:only-of-type {\n",
       "        vertical-align: middle;\n",
       "    }\n",
       "\n",
       "    .dataframe tbody tr th {\n",
       "        vertical-align: top;\n",
       "    }\n",
       "\n",
       "    .dataframe thead th {\n",
       "        text-align: right;\n",
       "    }\n",
       "</style>\n",
       "<table border=\"1\" class=\"dataframe\">\n",
       "  <thead>\n",
       "    <tr style=\"text-align: right;\">\n",
       "      <th></th>\n",
       "      <th>country</th>\n",
       "      <th>age</th>\n",
       "      <th>subscriber_type</th>\n",
       "      <th>num_streams</th>\n",
       "    </tr>\n",
       "  </thead>\n",
       "  <tbody>\n",
       "    <tr>\n",
       "      <th>705</th>\n",
       "      <td>united_states</td>\n",
       "      <td>22</td>\n",
       "      <td>aavail_premium</td>\n",
       "      <td>22</td>\n",
       "    </tr>\n",
       "    <tr>\n",
       "      <th>23</th>\n",
       "      <td>singapore</td>\n",
       "      <td>23</td>\n",
       "      <td>aavail_basic</td>\n",
       "      <td>14</td>\n",
       "    </tr>\n",
       "    <tr>\n",
       "      <th>54</th>\n",
       "      <td>united_states</td>\n",
       "      <td>25</td>\n",
       "      <td>aavail_basic</td>\n",
       "      <td>18</td>\n",
       "    </tr>\n",
       "    <tr>\n",
       "      <th>163</th>\n",
       "      <td>united_states</td>\n",
       "      <td>23</td>\n",
       "      <td>aavail_premium</td>\n",
       "      <td>20</td>\n",
       "    </tr>\n",
       "    <tr>\n",
       "      <th>538</th>\n",
       "      <td>singapore</td>\n",
       "      <td>23</td>\n",
       "      <td>aavail_unlimited</td>\n",
       "      <td>8</td>\n",
       "    </tr>\n",
       "  </tbody>\n",
       "</table>\n",
       "</div>"
      ],
      "text/plain": [
       "           country  age   subscriber_type  num_streams\n",
       "705  united_states   22    aavail_premium           22\n",
       "23       singapore   23      aavail_basic           14\n",
       "54   united_states   25      aavail_basic           18\n",
       "163  united_states   23    aavail_premium           20\n",
       "538      singapore   23  aavail_unlimited            8"
      ]
     },
     "execution_count": 109,
     "metadata": {},
     "output_type": "execute_result"
    }
   ],
   "source": [
    "Xs.tail()"
   ]
  },
  {
   "cell_type": "code",
   "execution_count": 110,
   "metadata": {},
   "outputs": [],
   "source": [
    "import requests\n",
    "from ast import literal_eval\n",
    "from collections import Counter\n",
    "from datetime import date"
   ]
  },
  {
   "cell_type": "code",
   "execution_count": 111,
   "metadata": {},
   "outputs": [
    {
     "name": "stdout",
     "output_type": "stream",
     "text": [
      "<Response [200]>\n"
     ]
    }
   ],
   "source": [
    "port = 8080\n",
    "r = requests.get('http://localhost:{}/'.format(port))\n",
    "print(r)"
   ]
  },
  {
   "cell_type": "code",
   "execution_count": 112,
   "metadata": {},
   "outputs": [],
   "source": [
    "request_json = {'query':Xs.to_dict(),'type':'dict'}\n",
    "port = 8080\n",
    "r = requests.post('http://localhost:{}/predict'.format(port),json=request_json)"
   ]
  },
  {
   "cell_type": "code",
   "execution_count": 113,
   "metadata": {},
   "outputs": [],
   "source": [
    "y_hat =  literal_eval(r.text)"
   ]
  },
  {
   "cell_type": "code",
   "execution_count": 114,
   "metadata": {},
   "outputs": [
    {
     "name": "stderr",
     "output_type": "stream",
     "text": [
      "C:\\Users\\Nidhal\\Anaconda3\\lib\\site-packages\\ipykernel_launcher.py:1: SettingWithCopyWarning: \n",
      "A value is trying to be set on a copy of a slice from a DataFrame.\n",
      "Try using .loc[row_indexer,col_indexer] = value instead\n",
      "\n",
      "See the caveats in the documentation: https://pandas.pydata.org/pandas-docs/stable/user_guide/indexing.html#returning-a-view-versus-a-copy\n",
      "  \"\"\"Entry point for launching an IPython kernel.\n",
      "C:\\Users\\Nidhal\\Anaconda3\\lib\\site-packages\\ipykernel_launcher.py:2: SettingWithCopyWarning: \n",
      "A value is trying to be set on a copy of a slice from a DataFrame.\n",
      "Try using .loc[row_indexer,col_indexer] = value instead\n",
      "\n",
      "See the caveats in the documentation: https://pandas.pydata.org/pandas-docs/stable/user_guide/indexing.html#returning-a-view-versus-a-copy\n",
      "  \n"
     ]
    }
   ],
   "source": [
    "Xs[\"Actual\"] = ys\n",
    "Xs[\"Predicted\"] = y_hat[\"y_pred\"]"
   ]
  },
  {
   "cell_type": "code",
   "execution_count": 115,
   "metadata": {},
   "outputs": [
    {
     "data": {
      "text/html": [
       "<div>\n",
       "<style scoped>\n",
       "    .dataframe tbody tr th:only-of-type {\n",
       "        vertical-align: middle;\n",
       "    }\n",
       "\n",
       "    .dataframe tbody tr th {\n",
       "        vertical-align: top;\n",
       "    }\n",
       "\n",
       "    .dataframe thead th {\n",
       "        text-align: right;\n",
       "    }\n",
       "</style>\n",
       "<table border=\"1\" class=\"dataframe\">\n",
       "  <thead>\n",
       "    <tr style=\"text-align: right;\">\n",
       "      <th></th>\n",
       "      <th>country</th>\n",
       "      <th>age</th>\n",
       "      <th>subscriber_type</th>\n",
       "      <th>num_streams</th>\n",
       "      <th>Actual</th>\n",
       "      <th>Predicted</th>\n",
       "    </tr>\n",
       "  </thead>\n",
       "  <tbody>\n",
       "    <tr>\n",
       "      <th>382</th>\n",
       "      <td>united_states</td>\n",
       "      <td>21</td>\n",
       "      <td>aavail_basic</td>\n",
       "      <td>20</td>\n",
       "      <td>0.0</td>\n",
       "      <td>0.0</td>\n",
       "    </tr>\n",
       "    <tr>\n",
       "      <th>526</th>\n",
       "      <td>united_states</td>\n",
       "      <td>25</td>\n",
       "      <td>aavail_basic</td>\n",
       "      <td>17</td>\n",
       "      <td>0.0</td>\n",
       "      <td>0.0</td>\n",
       "    </tr>\n",
       "    <tr>\n",
       "      <th>279</th>\n",
       "      <td>united_states</td>\n",
       "      <td>35</td>\n",
       "      <td>aavail_unlimited</td>\n",
       "      <td>14</td>\n",
       "      <td>0.0</td>\n",
       "      <td>0.0</td>\n",
       "    </tr>\n",
       "    <tr>\n",
       "      <th>124</th>\n",
       "      <td>united_states</td>\n",
       "      <td>31</td>\n",
       "      <td>aavail_basic</td>\n",
       "      <td>16</td>\n",
       "      <td>1.0</td>\n",
       "      <td>0.0</td>\n",
       "    </tr>\n",
       "    <tr>\n",
       "      <th>66</th>\n",
       "      <td>united_states</td>\n",
       "      <td>23</td>\n",
       "      <td>aavail_basic</td>\n",
       "      <td>21</td>\n",
       "      <td>0.0</td>\n",
       "      <td>0.0</td>\n",
       "    </tr>\n",
       "    <tr>\n",
       "      <th>325</th>\n",
       "      <td>united_states</td>\n",
       "      <td>34</td>\n",
       "      <td>aavail_premium</td>\n",
       "      <td>12</td>\n",
       "      <td>0.0</td>\n",
       "      <td>0.0</td>\n",
       "    </tr>\n",
       "    <tr>\n",
       "      <th>895</th>\n",
       "      <td>singapore</td>\n",
       "      <td>24</td>\n",
       "      <td>aavail_basic</td>\n",
       "      <td>19</td>\n",
       "      <td>1.0</td>\n",
       "      <td>1.0</td>\n",
       "    </tr>\n",
       "    <tr>\n",
       "      <th>647</th>\n",
       "      <td>united_states</td>\n",
       "      <td>33</td>\n",
       "      <td>aavail_premium</td>\n",
       "      <td>22</td>\n",
       "      <td>1.0</td>\n",
       "      <td>0.0</td>\n",
       "    </tr>\n",
       "    <tr>\n",
       "      <th>35</th>\n",
       "      <td>singapore</td>\n",
       "      <td>33</td>\n",
       "      <td>aavail_premium</td>\n",
       "      <td>26</td>\n",
       "      <td>1.0</td>\n",
       "      <td>1.0</td>\n",
       "    </tr>\n",
       "    <tr>\n",
       "      <th>216</th>\n",
       "      <td>singapore</td>\n",
       "      <td>25</td>\n",
       "      <td>aavail_unlimited</td>\n",
       "      <td>17</td>\n",
       "      <td>1.0</td>\n",
       "      <td>1.0</td>\n",
       "    </tr>\n",
       "    <tr>\n",
       "      <th>263</th>\n",
       "      <td>united_states</td>\n",
       "      <td>34</td>\n",
       "      <td>aavail_premium</td>\n",
       "      <td>25</td>\n",
       "      <td>0.0</td>\n",
       "      <td>0.0</td>\n",
       "    </tr>\n",
       "    <tr>\n",
       "      <th>967</th>\n",
       "      <td>united_states</td>\n",
       "      <td>29</td>\n",
       "      <td>aavail_premium</td>\n",
       "      <td>20</td>\n",
       "      <td>0.0</td>\n",
       "      <td>0.0</td>\n",
       "    </tr>\n",
       "    <tr>\n",
       "      <th>512</th>\n",
       "      <td>united_states</td>\n",
       "      <td>22</td>\n",
       "      <td>aavail_basic</td>\n",
       "      <td>24</td>\n",
       "      <td>0.0</td>\n",
       "      <td>0.0</td>\n",
       "    </tr>\n",
       "    <tr>\n",
       "      <th>595</th>\n",
       "      <td>united_states</td>\n",
       "      <td>39</td>\n",
       "      <td>aavail_unlimited</td>\n",
       "      <td>18</td>\n",
       "      <td>0.0</td>\n",
       "      <td>0.0</td>\n",
       "    </tr>\n",
       "    <tr>\n",
       "      <th>718</th>\n",
       "      <td>singapore</td>\n",
       "      <td>21</td>\n",
       "      <td>aavail_basic</td>\n",
       "      <td>18</td>\n",
       "      <td>1.0</td>\n",
       "      <td>1.0</td>\n",
       "    </tr>\n",
       "    <tr>\n",
       "      <th>705</th>\n",
       "      <td>united_states</td>\n",
       "      <td>22</td>\n",
       "      <td>aavail_premium</td>\n",
       "      <td>22</td>\n",
       "      <td>0.0</td>\n",
       "      <td>0.0</td>\n",
       "    </tr>\n",
       "    <tr>\n",
       "      <th>23</th>\n",
       "      <td>singapore</td>\n",
       "      <td>23</td>\n",
       "      <td>aavail_basic</td>\n",
       "      <td>14</td>\n",
       "      <td>1.0</td>\n",
       "      <td>1.0</td>\n",
       "    </tr>\n",
       "    <tr>\n",
       "      <th>54</th>\n",
       "      <td>united_states</td>\n",
       "      <td>25</td>\n",
       "      <td>aavail_basic</td>\n",
       "      <td>18</td>\n",
       "      <td>0.0</td>\n",
       "      <td>0.0</td>\n",
       "    </tr>\n",
       "    <tr>\n",
       "      <th>163</th>\n",
       "      <td>united_states</td>\n",
       "      <td>23</td>\n",
       "      <td>aavail_premium</td>\n",
       "      <td>20</td>\n",
       "      <td>0.0</td>\n",
       "      <td>0.0</td>\n",
       "    </tr>\n",
       "    <tr>\n",
       "      <th>538</th>\n",
       "      <td>singapore</td>\n",
       "      <td>23</td>\n",
       "      <td>aavail_unlimited</td>\n",
       "      <td>8</td>\n",
       "      <td>1.0</td>\n",
       "      <td>1.0</td>\n",
       "    </tr>\n",
       "  </tbody>\n",
       "</table>\n",
       "</div>"
      ],
      "text/plain": [
       "           country  age   subscriber_type  num_streams  Actual  Predicted\n",
       "382  united_states   21      aavail_basic           20     0.0        0.0\n",
       "526  united_states   25      aavail_basic           17     0.0        0.0\n",
       "279  united_states   35  aavail_unlimited           14     0.0        0.0\n",
       "124  united_states   31      aavail_basic           16     1.0        0.0\n",
       "66   united_states   23      aavail_basic           21     0.0        0.0\n",
       "325  united_states   34    aavail_premium           12     0.0        0.0\n",
       "895      singapore   24      aavail_basic           19     1.0        1.0\n",
       "647  united_states   33    aavail_premium           22     1.0        0.0\n",
       "35       singapore   33    aavail_premium           26     1.0        1.0\n",
       "216      singapore   25  aavail_unlimited           17     1.0        1.0\n",
       "263  united_states   34    aavail_premium           25     0.0        0.0\n",
       "967  united_states   29    aavail_premium           20     0.0        0.0\n",
       "512  united_states   22      aavail_basic           24     0.0        0.0\n",
       "595  united_states   39  aavail_unlimited           18     0.0        0.0\n",
       "718      singapore   21      aavail_basic           18     1.0        1.0\n",
       "705  united_states   22    aavail_premium           22     0.0        0.0\n",
       "23       singapore   23      aavail_basic           14     1.0        1.0\n",
       "54   united_states   25      aavail_basic           18     0.0        0.0\n",
       "163  united_states   23    aavail_premium           20     0.0        0.0\n",
       "538      singapore   23  aavail_unlimited            8     1.0        1.0"
      ]
     },
     "execution_count": 115,
     "metadata": {},
     "output_type": "execute_result"
    }
   ],
   "source": [
    "Xs"
   ]
  },
  {
   "cell_type": "markdown",
   "metadata": {},
   "source": [
    "The API retrieves the preditictios as expected, we notice that, indeed, the class 0 tends to be predicted more efficiently"
   ]
  },
  {
   "cell_type": "code",
   "execution_count": null,
   "metadata": {},
   "outputs": [],
   "source": []
  }
 ],
 "metadata": {
  "kernelspec": {
   "display_name": "Python 3",
   "language": "python",
   "name": "python3"
  },
  "language_info": {
   "codemirror_mode": {
    "name": "ipython",
    "version": 3
   },
   "file_extension": ".py",
   "mimetype": "text/x-python",
   "name": "python",
   "nbconvert_exporter": "python",
   "pygments_lexer": "ipython3",
   "version": "3.7.4"
  }
 },
 "nbformat": 4,
 "nbformat_minor": 4
}
